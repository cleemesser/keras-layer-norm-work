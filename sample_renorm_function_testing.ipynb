{
 "cells": [
  {
   "cell_type": "code",
   "execution_count": 1,
   "metadata": {
    "collapsed": false
   },
   "outputs": [],
   "source": [
    "from __future__ import print_function, division, absolute_import"
   ]
  },
  {
   "cell_type": "code",
   "execution_count": 2,
   "metadata": {
    "collapsed": false
   },
   "outputs": [
    {
     "name": "stderr",
     "output_type": "stream",
     "text": [
      "Using TensorFlow backend.\n"
     ]
    }
   ],
   "source": [
    "from keras import backend as K\n",
    "# import numpy as K"
   ]
  },
  {
   "cell_type": "code",
   "execution_count": 3,
   "metadata": {
    "collapsed": true
   },
   "outputs": [],
   "source": [
    "# modeled after ryankiros and gruln code\n",
    "def sample_normalize(x, _eps=1e-5):\n",
    "    \"\"\"centers a set of samples x to have zero mean and unit standard deviation\"\"\"\n",
    "    # keepdims=True the axes which are reduced are left in the result as dimensions with size one\n",
    "    # axis=-1 means do things across the last axis\n",
    "    m = K.mean(x, axis=-1, keepdims=True) # could subtract this off earlier\n",
    "    # std = K.std(x)\n",
    "    std = K.sqrt(K.var(x, axis=-1, keepdims=True) + _eps) # not using K.std for _eps stability\n",
    "    return (x-m)/ (std+_eps)\n",
    "    "
   ]
  },
  {
   "cell_type": "code",
   "execution_count": 4,
   "metadata": {
    "collapsed": false
   },
   "outputs": [],
   "source": [
    "import numpy as np\n",
    "import matplotlib.pylab as pylab\n"
   ]
  },
  {
   "cell_type": "code",
   "execution_count": 5,
   "metadata": {
    "collapsed": true
   },
   "outputs": [],
   "source": [
    "%matplotlib inline"
   ]
  },
  {
   "cell_type": "code",
   "execution_count": 6,
   "metadata": {
    "collapsed": false
   },
   "outputs": [],
   "source": [
    "import seaborn"
   ]
  },
  {
   "cell_type": "code",
   "execution_count": 7,
   "metadata": {
    "collapsed": false
   },
   "outputs": [],
   "source": [
    "# numpy samples\n",
    "x_2_35 = np.random.normal(loc=2.0,scale=3.5,size=(500))\n",
    "A_5_05 = np.random.normal(loc=5.0, scale=0.5,size=(500,2))"
   ]
  },
  {
   "cell_type": "code",
   "execution_count": 8,
   "metadata": {
    "collapsed": false
   },
   "outputs": [
    {
     "data": {
      "text/plain": [
       "(array([  1.,   0.,   7.,  13.,  25.,  25.,  41.,  41.,  53.,  68.,  51.,\n",
       "         48.,  35.,  30.,  26.,  11.,  13.,   5.,   4.,   3.]),\n",
       " array([ -7.94183147,  -6.89961957,  -5.85740767,  -4.81519577,\n",
       "         -3.77298388,  -2.73077198,  -1.68856008,  -0.64634819,\n",
       "          0.39586371,   1.43807561,   2.48028751,   3.5224994 ,\n",
       "          4.5647113 ,   5.6069232 ,   6.6491351 ,   7.69134699,\n",
       "          8.73355889,   9.77577079,  10.81798268,  11.86019458,  12.90240648]),\n",
       " <a list of 20 Patch objects>)"
      ]
     },
     "execution_count": 8,
     "metadata": {},
     "output_type": "execute_result"
    },
    {
     "data": {
      "image/png": "[encoded data removed]",
      "text/plain": [
       "<matplotlib.figure.Figure at 0x7f58075af850>"
      ]
     },
     "metadata": {},
     "output_type": "display_data"
    }
   ],
   "source": [
    "pylab.hist(x_2_35, bins=20)"
   ]
  },
  {
   "cell_type": "code",
   "execution_count": 9,
   "metadata": {
    "collapsed": false
   },
   "outputs": [
    {
     "data": {
      "text/plain": [
       "([array([   0.,    5.,   25.,   46.,  115.,  144.,   84.,   57.,   20.,    4.]),\n",
       "  array([   1.,    8.,   22.,   67.,   99.,  127.,   99.,   49.,   24.,    4.])],\n",
       " array([ 3.21279077,  3.53921466,  3.86563855,  4.19206244,  4.51848633,\n",
       "         4.84491022,  5.17133411,  5.497758  ,  5.82418189,  6.15060579,\n",
       "         6.47702968]),\n",
       " <a list of 2 Lists of Patches objects>)"
      ]
     },
     "execution_count": 9,
     "metadata": {},
     "output_type": "execute_result"
    },
    {
     "data": {
      "image/png": "[encoded data removed]",
      "text/plain": [
       "<matplotlib.figure.Figure at 0x7f5804bb5dd0>"
      ]
     },
     "metadata": {},
     "output_type": "display_data"
    }
   ],
   "source": [
    "pylab.hist(A_5_05)"
   ]
  },
  {
   "cell_type": "code",
   "execution_count": 10,
   "metadata": {
    "collapsed": false
   },
   "outputs": [],
   "source": [
    "Tx_2_35 = K.variable(x_2_35, name='x_2_35')"
   ]
  },
  {
   "cell_type": "code",
   "execution_count": 11,
   "metadata": {
    "collapsed": false
   },
   "outputs": [],
   "source": [
    "Tmx = K.mean(Tx_2_35)"
   ]
  },
  {
   "cell_type": "code",
   "execution_count": 12,
   "metadata": {
    "collapsed": false
   },
   "outputs": [
    {
     "data": {
      "text/plain": [
       "tensorflow.python.framework.ops.Tensor"
      ]
     },
     "execution_count": 12,
     "metadata": {},
     "output_type": "execute_result"
    }
   ],
   "source": [
    "type(Tmx)"
   ]
  },
  {
   "cell_type": "code",
   "execution_count": 13,
   "metadata": {
    "collapsed": false
   },
   "outputs": [
    {
     "data": {
      "text/plain": [
       "2.2613833"
      ]
     },
     "execution_count": 13,
     "metadata": {},
     "output_type": "execute_result"
    }
   ],
   "source": [
    "K.eval(Tmx)"
   ]
  },
  {
   "cell_type": "code",
   "execution_count": 14,
   "metadata": {
    "collapsed": false
   },
   "outputs": [
    {
     "data": {
      "text/plain": [
       "2.2613832127357498"
      ]
     },
     "execution_count": 14,
     "metadata": {},
     "output_type": "execute_result"
    }
   ],
   "source": [
    "np.mean(x_2_35)"
   ]
  },
  {
   "cell_type": "code",
   "execution_count": 15,
   "metadata": {
    "collapsed": true
   },
   "outputs": [],
   "source": [
    "Tstdx = K.std(Tx_2_35)"
   ]
  },
  {
   "cell_type": "code",
   "execution_count": 16,
   "metadata": {
    "collapsed": false
   },
   "outputs": [
    {
     "data": {
      "text/plain": [
       "3.6342607"
      ]
     },
     "execution_count": 16,
     "metadata": {},
     "output_type": "execute_result"
    }
   ],
   "source": [
    "K.eval(Tstdx)"
   ]
  },
  {
   "cell_type": "code",
   "execution_count": 17,
   "metadata": {
    "collapsed": false
   },
   "outputs": [
    {
     "data": {
      "text/plain": [
       "3.6342605586126155"
      ]
     },
     "execution_count": 17,
     "metadata": {},
     "output_type": "execute_result"
    }
   ],
   "source": [
    "np.std(x_2_35)"
   ]
  },
  {
   "cell_type": "code",
   "execution_count": 18,
   "metadata": {
    "collapsed": true
   },
   "outputs": [],
   "source": [
    "Tcentx = (Tx_2_35 - K.mean(Tx_2_35))/K.sqrt( K.var(Tx_2_35) )"
   ]
  },
  {
   "cell_type": "code",
   "execution_count": 19,
   "metadata": {
    "collapsed": false
   },
   "outputs": [
    {
     "data": {
      "text/plain": [
       "array([ -3.02734375e-01,  -8.07632387e-01,   4.58304912e-01,\n",
       "         1.93480439e-02,  -5.75610220e-01,  -2.29774430e-01,\n",
       "        -3.32824707e-01,  -1.98422003e+00,   1.89955249e-01,\n",
       "         2.11504459e+00,  -3.09879392e-01,  -1.20905805e+00,\n",
       "         2.05445841e-01,  -5.40860295e-01,   7.90485382e-01,\n",
       "         2.40060019e+00,  -4.71190661e-01,   3.94939125e-01,\n",
       "        -1.20012236e+00,   1.51821524e-01,  -7.41189718e-01,\n",
       "        -9.53833833e-02,   2.23114446e-01,  -8.76912296e-01,\n",
       "        -1.71474266e+00,  -3.93860340e-02,   8.25882196e-01,\n",
       "        -1.87339175e+00,   9.15210187e-01,   9.62944508e-01,\n",
       "         1.27695036e+00,   2.33820796e-01,  -7.71044672e-01,\n",
       "         6.87585473e-01,   1.13788378e+00,   7.32726753e-01,\n",
       "        -1.66563320e+00,   1.98425746e+00,   1.89031208e+00,\n",
       "        -2.05111623e-01,   9.68083858e-01,  -8.70707557e-02,\n",
       "        -1.45955253e+00,   1.03944682e-01,  -4.52997744e-01,\n",
       "         4.58035879e-02,   5.53460956e-01,  -6.29887223e-01,\n",
       "        -2.41010725e-01,  -1.66812733e-01,  -1.18520129e+00,\n",
       "        -7.82168746e-01,  -2.64850885e-01,  -8.52417350e-01,\n",
       "        -1.47497070e+00,   5.30491590e-01,  -1.20955718e+00,\n",
       "        -6.73994184e-01,   2.14191031e+00,   2.15247846e+00,\n",
       "         1.32089108e-01,  -2.00968742e+00,  -1.20504655e-01,\n",
       "        -8.72481525e-01,  -2.64238894e-01,   1.36780095e+00,\n",
       "         5.33139348e-01,   2.30853245e-01,   1.29896790e-01,\n",
       "         2.85325885e-01,  -3.78183901e-01,  -1.02311337e+00,\n",
       "        -2.15394571e-01,   1.10174406e+00,   2.67702413e+00,\n",
       "         7.88441062e-01,   1.18842983e+00,  -9.76605713e-01,\n",
       "        -1.58692971e-01,  -3.17092538e-01,  -1.06236959e+00,\n",
       "        -3.97220515e-02,  -2.70383626e-01,  -7.46259809e-01,\n",
       "         1.81396067e+00,   1.36867213e+00,  -3.91504645e-01,\n",
       "         2.04171568e-01,  -1.94283152e+00,   8.27338934e-01,\n",
       "        -1.55156028e+00,  -1.21153784e+00,  -1.54442823e+00,\n",
       "         2.16556102e-01,   7.37893820e-01,  -9.21394769e-03,\n",
       "         1.00590730e+00,  -8.37918639e-01,   2.51010656e+00,\n",
       "         3.86885166e-01,  -1.56187749e+00,  -9.29710329e-01,\n",
       "         1.61017823e+00,   2.42439926e-01,  -4.17130947e-01,\n",
       "         5.94136119e-01,   2.33827755e-01,  -3.82433683e-01,\n",
       "        -1.65719163e+00,  -3.48915398e-01,  -4.70879853e-01,\n",
       "         1.23650432e+00,  -4.92075592e-01,  -6.44782305e-01,\n",
       "         8.56265426e-01,  -1.41731992e-01,   2.03858316e-01,\n",
       "        -1.07958353e+00,   1.30247128e+00,   2.50486636e+00,\n",
       "         3.89953554e-01,  -3.56578201e-01,  -1.62707359e-01,\n",
       "         8.93007666e-02,   3.50292325e-01,  -1.47287893e+00,\n",
       "         1.00666392e+00,   5.27681828e-01,  -3.05082232e-01,\n",
       "        -1.00495625e+00,   2.68573940e-01,  -8.68560001e-02,\n",
       "         1.00437963e+00,  -1.60025215e+00,  -9.95535016e-01,\n",
       "        -9.36762616e-02,  -5.70627093e-01,  -1.20002615e+00,\n",
       "         8.76929343e-01,   4.22785044e-01,   2.68666714e-01,\n",
       "        -1.41972351e+00,   9.42408502e-01,  -1.58582032e+00,\n",
       "         8.58908176e-01,  -3.41494530e-01,   1.92302489e+00,\n",
       "        -1.94944751e+00,   5.94061494e-01,   4.47213531e-01,\n",
       "         1.37631118e+00,  -2.12503016e-01,  -4.44684833e-01,\n",
       "        -7.21194208e-01,  -9.86658633e-01,  -3.10860783e-01,\n",
       "        -1.49470496e+00,  -3.02306235e-01,   7.34303057e-01,\n",
       "         1.55130732e+00,  -1.75864601e+00,  -1.13365278e-01,\n",
       "         1.18049657e+00,  -9.87080574e-01,   7.30252087e-01,\n",
       "        -6.97046757e-01,  -4.18561339e-01,   1.57243514e+00,\n",
       "        -6.82914853e-01,  -7.56848902e-02,   1.15839231e+00,\n",
       "        -6.03225112e-01,   1.18554354e+00,  -1.41947279e-02,\n",
       "        -8.06397259e-01,   3.07398021e-01,   7.76669919e-01,\n",
       "         1.19081938e+00,   3.13442349e-01,  -6.02621317e-01,\n",
       "         2.07634941e-02,   7.64934063e-01,  -2.18526930e-01,\n",
       "         7.56494343e-01,   1.64894491e-01,   2.33329296e-01,\n",
       "         1.29315460e+00,  -9.39706802e-01,  -8.88826132e-01,\n",
       "         1.00635007e-01,   1.21730804e+00,   7.62760341e-01,\n",
       "         8.74185979e-01,   2.10980225e+00,   4.23532546e-01,\n",
       "        -1.72789991e-01,   1.52603969e-01,   3.20887454e-02,\n",
       "        -1.26992509e-01,   1.23426807e+00,   1.38667727e+00,\n",
       "         5.59492588e-01,   2.68495798e-01,   4.94369656e-01,\n",
       "         2.06373382e+00,  -8.23320031e-01,   1.32048202e+00,\n",
       "         1.19936514e+00,   8.98637652e-01,   1.35621965e+00,\n",
       "         2.02472878e+00,   5.54476082e-01,  -5.26467621e-01,\n",
       "        -2.81341016e-01,   7.80083776e-01,  -4.63723004e-01,\n",
       "        -1.91465974e+00,  -2.14059067e+00,   2.37531233e+00,\n",
       "        -5.08332074e-01,  -2.84243464e-01,   1.96798041e-01,\n",
       "        -2.12131187e-01,   5.76532245e-01,  -8.90169144e-01,\n",
       "        -1.09672165e+00,   3.97961587e-01,  -7.28227735e-01,\n",
       "        -1.05628419e+00,   3.41614746e-02,  -1.68783462e+00,\n",
       "        -1.77313253e-01,  -1.54031754e-01,  -1.54508626e+00,\n",
       "        -1.65375009e-01,  -7.30115324e-02,  -4.17695642e-01,\n",
       "        -1.59877753e+00,   1.13305724e+00,   2.21864909e-01,\n",
       "         9.27667379e-01,   7.55854487e-01,  -1.27986288e-02,\n",
       "         5.91419637e-01,  -1.67402935e+00,  -1.77811936e-01,\n",
       "        -5.02417028e-01,  -2.97932565e-01,  -5.24047256e-01,\n",
       "        -1.33507967e+00,   1.88022602e+00,   7.96676874e-01,\n",
       "         2.33597085e-01,   5.28219521e-01,  -4.80800331e-01,\n",
       "        -1.24300644e-01,   3.09106976e-01,   1.64331421e-01,\n",
       "        -8.35966945e-01,   1.18863845e+00,  -1.34584248e-01,\n",
       "        -1.73973724e-01,   3.58803838e-01,   4.63890880e-01,\n",
       "        -3.59676123e-01,  -5.21880209e-01,  -1.09672499e+00,\n",
       "         3.35684419e-01,  -6.23262644e-01,  -3.36409479e-01,\n",
       "        -1.73934352e+00,   1.56774032e+00,  -1.46255428e-02,\n",
       "         4.57477659e-01,  -5.80447853e-01,   3.57483715e-01,\n",
       "        -1.78989962e-01,   4.14145052e-01,  -1.25469074e-01,\n",
       "        -3.05629045e-01,   9.23482299e-01,  -1.15332425e+00,\n",
       "        -1.46365356e+00,   4.25411612e-01,   1.19287717e+00,\n",
       "        -1.96346045e-01,   1.98434913e+00,  -5.60391843e-01,\n",
       "        -1.13990045e+00,   1.07787943e+00,   7.81582534e-01,\n",
       "        -1.43810034e+00,  -6.82559013e-01,   1.32014787e+00,\n",
       "         1.25220704e+00,  -1.85807139e-01,   1.85939443e+00,\n",
       "        -2.00976729e+00,  -6.10003114e-01,  -8.58364031e-02,\n",
       "        -5.95454574e-02,  -4.01299596e-01,  -1.07323325e+00,\n",
       "         4.32048142e-01,   5.60233295e-01,  -1.76680076e+00,\n",
       "         1.39013696e+00,  -2.07442597e-01,   1.71311989e-01,\n",
       "         4.49604243e-01,   2.38929898e-01,   1.87328056e-01,\n",
       "         8.72285306e-01,   3.98086876e-01,   6.10308349e-01,\n",
       "        -7.85291910e-01,   2.80543298e-01,   2.06416583e+00,\n",
       "        -2.06060737e-01,   1.58912981e+00,  -7.87239373e-01,\n",
       "        -1.29715812e+00,  -7.30574727e-01,  -1.90288746e+00,\n",
       "         2.26527307e-04,  -5.70134103e-01,  -3.70900393e-01,\n",
       "         1.33042943e+00,   1.72358021e-01,  -6.35437429e-01,\n",
       "        -8.50183487e-01,   3.91685784e-01,  -1.48090839e-01,\n",
       "        -3.29179466e-01,   1.52341664e+00,   1.28310192e+00,\n",
       "        -1.06362939e+00,   5.63034862e-02,   1.60980892e+00,\n",
       "        -1.53834805e-01,  -1.03657877e+00,   1.42477560e+00,\n",
       "         8.00125241e-01,  -1.29802573e+00,   3.73975456e-01,\n",
       "         2.88282156e-01,   2.89977193e-01,   6.15356548e-05,\n",
       "        -1.02588069e+00,   1.07483900e+00,   1.10130215e+00,\n",
       "        -2.57380217e-01,  -1.24903584e+00,  -3.62360418e-01,\n",
       "         5.67720950e-01,  -5.57542555e-02,  -1.48186517e+00,\n",
       "         6.47438228e-01,  -2.09256202e-01,  -1.22571552e+00,\n",
       "        -2.31118143e-01,   7.87300885e-01,   6.42913163e-01,\n",
       "        -4.72111464e-01,   1.57528687e+00,  -1.84103346e+00,\n",
       "        -2.14891791e-01,   1.49279940e+00,   4.50807124e-01,\n",
       "        -1.64847386e+00,  -3.68939817e-01,   1.05662632e+00,\n",
       "        -1.17176521e+00,  -1.37576067e+00,   4.51308012e-01,\n",
       "         4.70313132e-01,  -1.41001546e+00,   7.65711844e-01,\n",
       "        -1.98260355e+00,  -2.09534144e+00,  -8.23158503e-01,\n",
       "        -1.03201246e+00,   4.16845292e-01,  -8.68440568e-01,\n",
       "         6.10374331e-01,   1.38848472e+00,  -1.19977601e-01,\n",
       "         4.06788468e-01,  -1.58481169e+00,  -1.03377342e+00,\n",
       "        -2.68436551e-01,  -1.02124083e+00,  -4.78607677e-02,\n",
       "        -6.29735827e-01,  -6.44321859e-01,  -6.35073557e-02,\n",
       "         1.59062058e-01,   1.69715238e+00,   2.41707727e-01,\n",
       "         1.34150648e+00,   2.14283288e-01,   1.26568794e+00,\n",
       "        -7.39631593e-01,  -3.20452869e-01,   1.63202003e-01,\n",
       "         1.30474961e+00,  -3.67455110e-02,  -8.75250936e-01,\n",
       "        -1.09553039e+00,   2.92797470e+00,   2.00824171e-01,\n",
       "         1.94203779e-01,  -8.10418963e-01,   4.94617879e-01,\n",
       "         9.94792402e-01,  -1.49359810e+00,  -1.36235273e+00,\n",
       "        -1.13025880e+00,   1.15538275e+00,   1.49320328e+00,\n",
       "         8.09066653e-01,  -3.23152728e-02,  -1.07167327e+00,\n",
       "         1.63258225e-01,   5.66286445e-01,   4.21753436e-01,\n",
       "         5.38422540e-02,  -6.66527927e-01,   2.55527198e-01,\n",
       "         1.05123842e+00,  -1.51707804e+00,  -1.19124687e+00,\n",
       "        -6.27132714e-01,  -1.26105815e-01,  -1.36912453e+00,\n",
       "        -3.90908480e-01,  -1.76099792e-01,  -1.05974448e+00,\n",
       "         1.83065903e+00,   1.99572361e+00,   8.99089724e-02,\n",
       "         1.48519278e+00,   4.50383663e-01,  -5.33429086e-01,\n",
       "        -6.21248603e-01,   4.39019918e-01,   3.20344388e-01,\n",
       "         2.16613531e+00,   1.06806850e+00,   8.27996433e-01,\n",
       "        -3.97337496e-01,  -7.59343624e-01,  -5.27343094e-01,\n",
       "        -9.55554783e-01,   6.86361790e-01,  -8.31992388e-01,\n",
       "        -1.07358027e+00,   1.18041742e+00,  -1.23711026e+00,\n",
       "        -3.36727262e-01,  -9.55394208e-02,  -8.35983336e-01,\n",
       "         7.28268802e-01,  -5.41330934e-01,   4.17955428e-01,\n",
       "         1.61792779e+00,  -4.39572871e-01,  -1.68984160e-01,\n",
       "        -1.17542517e+00,  -5.04740775e-01,   1.79957736e+00,\n",
       "        -1.00340700e+00,  -1.53404117e+00,   9.19524074e-01,\n",
       "        -2.37381998e-02,  -1.74061882e+00,  -1.16155136e+00,\n",
       "         2.82442898e-01,  -4.50509757e-01,   1.74249351e+00,\n",
       "         8.78476381e-01,  -1.16668975e+00,  -7.61444345e-02,\n",
       "        -1.21342115e-01,   2.68243408e+00,  -1.40885079e+00,\n",
       "        -2.80750751e+00,  -5.04681647e-01,   9.36942220e-01,\n",
       "         7.84155130e-02,  -1.46131337e+00,  -7.95951188e-01,\n",
       "         1.46009946e+00,  -1.75227597e-01,  -6.16893530e-01,\n",
       "        -9.17377472e-01,  -1.01899959e-01,   1.11205292e+00,\n",
       "         5.76438546e-01,   1.33512363e-01], dtype=float32)"
      ]
     },
     "execution_count": 19,
     "metadata": {},
     "output_type": "execute_result"
    }
   ],
   "source": [
    "K.eval(Tcentx)"
   ]
  },
  {
   "cell_type": "code",
   "execution_count": 20,
   "metadata": {
    "collapsed": false
   },
   "outputs": [
    {
     "data": {
      "text/plain": [
       "3.8649887e-08"
      ]
     },
     "execution_count": 20,
     "metadata": {},
     "output_type": "execute_result"
    }
   ],
   "source": [
    "K.eval(K.mean(Tcentx))"
   ]
  },
  {
   "cell_type": "code",
   "execution_count": 22,
   "metadata": {
    "collapsed": false
   },
   "outputs": [
    {
     "data": {
      "text/plain": [
       "1.0"
      ]
     },
     "execution_count": 22,
     "metadata": {},
     "output_type": "execute_result"
    }
   ],
   "source": [
    "K.eval(K.var(Tcentx))"
   ]
  },
  {
   "cell_type": "code",
   "execution_count": 23,
   "metadata": {
    "collapsed": false
   },
   "outputs": [],
   "source": [
    "Treturn = sample_normalize(Tx_2_35)"
   ]
  },
  {
   "cell_type": "code",
   "execution_count": 24,
   "metadata": {
    "collapsed": false
   },
   "outputs": [
    {
     "data": {
      "text/plain": [
       "<tf.Tensor 'truediv_1:0' shape=(500,) dtype=float32>"
      ]
     },
     "execution_count": 24,
     "metadata": {},
     "output_type": "execute_result"
    }
   ],
   "source": [
    "Treturn"
   ]
  },
  {
   "cell_type": "code",
   "execution_count": 25,
   "metadata": {
    "collapsed": false
   },
   "outputs": [
    {
     "data": {
      "text/plain": [
       "array([ -3.02733362e-01,  -8.07629883e-01,   4.58303541e-01,\n",
       "         1.93480495e-02,  -5.75608373e-01,  -2.29773656e-01,\n",
       "        -3.32823634e-01,  -1.98421371e+00,   1.89954743e-01,\n",
       "         2.11503792e+00,  -3.09878379e-01,  -1.20905435e+00,\n",
       "         2.05445275e-01,  -5.40858507e-01,   7.90482998e-01,\n",
       "         2.40059280e+00,  -4.71189141e-01,   3.94937962e-01,\n",
       "        -1.20011854e+00,   1.51821122e-01,  -7.41187334e-01,\n",
       "        -9.53830257e-02,   2.23113820e-01,  -8.76909494e-01,\n",
       "        -1.71473730e+00,  -3.93858477e-02,   8.25879693e-01,\n",
       "        -1.87338603e+00,   9.15207386e-01,   9.62941587e-01,\n",
       "         1.27694643e+00,   2.33820140e-01,  -7.71042228e-01,\n",
       "         6.87583387e-01,   1.13788021e+00,   7.32724547e-01,\n",
       "        -1.66562808e+00,   1.98425138e+00,   1.89030623e+00,\n",
       "        -2.05110922e-01,   9.68080938e-01,  -8.70704204e-02,\n",
       "        -1.45954800e+00,   1.03944421e-01,  -4.52996284e-01,\n",
       "         4.58035097e-02,   5.53459287e-01,  -6.29885256e-01,\n",
       "        -2.41009921e-01,  -1.66812152e-01,  -1.18519747e+00,\n",
       "        -7.82166302e-01,  -2.64849991e-01,  -8.52414608e-01,\n",
       "        -1.47496605e+00,   5.30490041e-01,  -1.20955348e+00,\n",
       "        -6.73992038e-01,   2.14190364e+00,   2.15247178e+00,\n",
       "         1.32088766e-01,  -2.00968122e+00,  -1.20504223e-01,\n",
       "        -8.72478783e-01,  -2.64238000e-01,   1.36779666e+00,\n",
       "         5.33137739e-01,   2.30852604e-01,   1.29896447e-01,\n",
       "         2.85325050e-01,  -3.78182679e-01,  -1.02311015e+00,\n",
       "        -2.15393841e-01,   1.10174072e+00,   2.67701578e+00,\n",
       "         7.88438678e-01,   1.18842638e+00,  -9.76602614e-01,\n",
       "        -1.58692420e-01,  -3.17091495e-01,  -1.06236625e+00,\n",
       "        -3.97218652e-02,  -2.70382732e-01,  -7.46257484e-01,\n",
       "         1.81395507e+00,   1.36866784e+00,  -3.91503364e-01,\n",
       "         2.04171002e-01,  -1.94282544e+00,   8.27336490e-01,\n",
       "        -1.55155551e+00,  -1.21153414e+00,  -1.54442346e+00,\n",
       "         2.16555506e-01,   7.37891614e-01,  -9.21385363e-03,\n",
       "         1.00590420e+00,  -8.37915957e-01,   2.51009893e+00,\n",
       "         3.86884034e-01,  -1.56187272e+00,  -9.29707468e-01,\n",
       "         1.61017323e+00,   2.42439240e-01,  -4.17129606e-01,\n",
       "         5.94134390e-01,   2.33827099e-01,  -3.82432431e-01,\n",
       "        -1.65718639e+00,  -3.48914266e-01,  -4.70878333e-01,\n",
       "         1.23650062e+00,  -4.92073983e-01,  -6.44780219e-01,\n",
       "         8.56262863e-01,  -1.41731501e-01,   2.03857750e-01,\n",
       "        -1.07958019e+00,   1.30246747e+00,   2.50485873e+00,\n",
       "         3.89952421e-01,  -3.56577039e-01,  -1.62706792e-01,\n",
       "         8.93005580e-02,   3.50291282e-01,  -1.47287428e+00,\n",
       "         1.00666094e+00,   5.27680278e-01,  -3.05081218e-01,\n",
       "        -1.00495303e+00,   2.68573195e-01,  -8.68556723e-02,\n",
       "         1.00437665e+00,  -1.60024726e+00,  -9.95531857e-01,\n",
       "        -9.36759040e-02,  -5.70625246e-01,  -1.20002246e+00,\n",
       "         8.76926720e-01,   4.22783822e-01,   2.68665940e-01,\n",
       "        -1.41971898e+00,   9.42405701e-01,  -1.58581543e+00,\n",
       "         8.58905613e-01,  -3.41493398e-01,   1.92301905e+00,\n",
       "        -1.94944143e+00,   5.94059706e-01,   4.47212219e-01,\n",
       "         1.37630701e+00,  -2.12502301e-01,  -4.44683403e-01,\n",
       "        -7.21191943e-01,  -9.86655533e-01,  -3.10859770e-01,\n",
       "        -1.49470043e+00,  -3.02305251e-01,   7.34300852e-01,\n",
       "         1.55130255e+00,  -1.75864041e+00,  -1.13364860e-01,\n",
       "         1.18049312e+00,  -9.87077534e-01,   7.30249882e-01,\n",
       "        -6.97044551e-01,  -4.18559968e-01,   1.57243049e+00,\n",
       "        -6.82912648e-01,  -7.56845921e-02,   1.15838873e+00,\n",
       "        -6.03223205e-01,   1.18553996e+00,  -1.41946180e-02,\n",
       "        -8.06394756e-01,   3.07397127e-01,   7.76667595e-01,\n",
       "         1.19081581e+00,   3.13441455e-01,  -6.02619290e-01,\n",
       "         2.07634959e-02,   7.64931738e-01,  -2.18526185e-01,\n",
       "         7.56492078e-01,   1.64894059e-01,   2.33328640e-01,\n",
       "         1.29315078e+00,  -9.39703822e-01,  -8.88823271e-01,\n",
       "         1.00634761e-01,   1.21730447e+00,   7.62758076e-01,\n",
       "         8.74183297e-01,   2.10979581e+00,   4.23531294e-01,\n",
       "        -1.72789395e-01,   1.52603567e-01,   3.20887119e-02,\n",
       "        -1.26992047e-01,   1.23426425e+00,   1.38667297e+00,\n",
       "         5.59490979e-01,   2.68495053e-01,   4.94368196e-01,\n",
       "         2.06372738e+00,  -8.23317349e-01,   1.32047784e+00,\n",
       "         1.19936144e+00,   8.98634970e-01,   1.35621548e+00,\n",
       "         2.02472258e+00,   5.54474413e-01,  -5.26465952e-01,\n",
       "        -2.81340092e-01,   7.80081451e-01,  -4.63721484e-01,\n",
       "        -1.91465390e+00,  -2.14058399e+00,   2.37530494e+00,\n",
       "        -5.08330464e-01,  -2.84242511e-01,   1.96797505e-01,\n",
       "        -2.12130457e-01,   5.76530516e-01,  -8.90166402e-01,\n",
       "        -1.09671819e+00,   3.97960424e-01,  -7.28225410e-01,\n",
       "        -1.05628085e+00,   3.41614336e-02,  -1.68782926e+00,\n",
       "        -1.77312642e-01,  -1.54031202e-01,  -1.54508138e+00,\n",
       "        -1.65374428e-01,  -7.30112419e-02,  -4.17694271e-01,\n",
       "        -1.59877253e+00,   1.13305366e+00,   2.21864283e-01,\n",
       "         9.27664578e-01,   7.55852222e-01,  -1.27985245e-02,\n",
       "         5.91417909e-01,  -1.67402422e+00,  -1.77811325e-01,\n",
       "        -5.02415419e-01,  -2.97931582e-01,  -5.24045587e-01,\n",
       "        -1.33507562e+00,   1.88022017e+00,   7.96674490e-01,\n",
       "         2.33596429e-01,   5.28217971e-01,  -4.80798781e-01,\n",
       "        -1.24300197e-01,   3.09106082e-01,   1.64330989e-01,\n",
       "        -8.35964262e-01,   1.18863499e+00,  -1.34583771e-01,\n",
       "        -1.73973128e-01,   3.58802795e-01,   4.63889509e-01,\n",
       "        -3.59674960e-01,  -5.21878541e-01,  -1.09672153e+00,\n",
       "         3.35683435e-01,  -6.23260677e-01,  -3.36408377e-01,\n",
       "        -1.73933816e+00,   1.56773567e+00,  -1.46254320e-02,\n",
       "         4.57476318e-01,  -5.80446005e-01,   3.57482672e-01,\n",
       "        -1.78989351e-01,   4.14143860e-01,  -1.25468612e-01,\n",
       "        -3.05628031e-01,   9.23479557e-01,  -1.15332055e+00,\n",
       "        -1.46364892e+00,   4.25410360e-01,   1.19287372e+00,\n",
       "        -1.96345374e-01,   1.98434293e+00,  -5.60390055e-01,\n",
       "        -1.13989687e+00,   1.07787621e+00,   7.81580210e-01,\n",
       "        -1.43809593e+00,  -6.82556808e-01,   1.32014382e+00,\n",
       "         1.25220335e+00,  -1.85806498e-01,   1.85938871e+00,\n",
       "        -2.00976110e+00,  -6.10001147e-01,  -8.58360678e-02,\n",
       "        -5.95452078e-02,  -4.01298285e-01,  -1.07322991e+00,\n",
       "         4.32046860e-01,   5.60231626e-01,  -1.76679528e+00,\n",
       "         1.39013278e+00,  -2.07441896e-01,   1.71311527e-01,\n",
       "         4.49602902e-01,   2.38929227e-01,   1.87327534e-01,\n",
       "         8.72282684e-01,   3.98085713e-01,   6.10306501e-01,\n",
       "        -7.85289347e-01,   2.80542493e-01,   2.06415963e+00,\n",
       "        -2.06060037e-01,   1.58912492e+00,  -7.87236869e-01,\n",
       "        -1.29715395e+00,  -7.30572402e-01,  -1.90288138e+00,\n",
       "         2.26592223e-04,  -5.70132256e-01,  -3.70899171e-01,\n",
       "         1.33042538e+00,   1.72357559e-01,  -6.35435402e-01,\n",
       "        -8.50180805e-01,   3.91684651e-01,  -1.48090318e-01,\n",
       "        -3.29178393e-01,   1.52341187e+00,   1.28309810e+00,\n",
       "        -1.06362605e+00,   5.63033782e-02,   1.60980403e+00,\n",
       "        -1.53834268e-01,  -1.03657556e+00,   1.42477131e+00,\n",
       "         8.00122857e-01,  -1.29802179e+00,   3.73974383e-01,\n",
       "         2.88281322e-01,   2.89976358e-01,   6.16010657e-05,\n",
       "        -1.02587748e+00,   1.07483578e+00,   1.10129881e+00,\n",
       "        -2.57379383e-01,  -1.24903190e+00,  -3.62359226e-01,\n",
       "         5.67719281e-01,  -5.57540171e-02,  -1.48186052e+00,\n",
       "         6.47436261e-01,  -2.09255487e-01,  -1.22571170e+00,\n",
       "        -2.31117368e-01,   7.87298501e-01,   6.42911255e-01,\n",
       "        -4.72109944e-01,   1.57528198e+00,  -1.84102774e+00,\n",
       "        -2.14891061e-01,   1.49279487e+00,   4.50805813e-01,\n",
       "        -1.64846873e+00,  -3.68938595e-01,   1.05662310e+00,\n",
       "        -1.17176151e+00,  -1.37575638e+00,   4.51306671e-01,\n",
       "         4.70311761e-01,  -1.41001105e+00,   7.65709579e-01,\n",
       "        -1.98259735e+00,  -2.09533501e+00,  -8.23155940e-01,\n",
       "        -1.03200924e+00,   4.16844070e-01,  -8.68437827e-01,\n",
       "         6.10372543e-01,   1.38848042e+00,  -1.19977169e-01,\n",
       "         4.06787276e-01,  -1.58480668e+00,  -1.03377008e+00,\n",
       "        -2.68435657e-01,  -1.02123761e+00,  -4.78605554e-02,\n",
       "        -6.29733801e-01,  -6.44319832e-01,  -6.35070950e-02,\n",
       "         1.59061641e-01,   1.69714713e+00,   2.41707042e-01,\n",
       "         1.34150231e+00,   2.14282691e-01,   1.26568401e+00,\n",
       "        -7.39629269e-01,  -3.20451796e-01,   1.63201571e-01,\n",
       "         1.30474567e+00,  -3.67453322e-02,  -8.75248194e-01,\n",
       "        -1.09552693e+00,   2.92796564e+00,   2.00823620e-01,\n",
       "         1.94203243e-01,  -8.10416460e-01,   4.94616419e-01,\n",
       "         9.94789422e-01,  -1.49359357e+00,  -1.36234832e+00,\n",
       "        -1.13025534e+00,   1.15537930e+00,   1.49319863e+00,\n",
       "         8.09064269e-01,  -3.23151089e-02,  -1.07166982e+00,\n",
       "         1.63257793e-01,   5.66284776e-01,   4.21752214e-01,\n",
       "         5.38421534e-02,  -6.66525781e-01,   2.55526483e-01,\n",
       "         1.05123532e+00,  -1.51707339e+00,  -1.19124305e+00,\n",
       "        -6.27130687e-01,  -1.26105353e-01,  -1.36912024e+00,\n",
       "        -3.90907198e-01,  -1.76099181e-01,  -1.05974126e+00,\n",
       "         1.83065331e+00,   1.99571741e+00,   8.99087638e-02,\n",
       "         1.48518836e+00,   4.50382352e-01,  -5.33427417e-01,\n",
       "        -6.21246636e-01,   4.39018607e-01,   3.20343465e-01,\n",
       "         2.16612864e+00,   1.06806529e+00,   8.27993929e-01,\n",
       "        -3.97336215e-01,  -7.59341240e-01,  -5.27341366e-01,\n",
       "        -9.55551803e-01,   6.86359763e-01,  -8.31989825e-01,\n",
       "        -1.07357693e+00,   1.18041372e+00,  -1.23710620e+00,\n",
       "        -3.36726159e-01,  -9.55390558e-02,  -8.35980713e-01,\n",
       "         7.28266597e-01,  -5.41329205e-01,   4.17954206e-01,\n",
       "         1.61792278e+00,  -4.39571440e-01,  -1.68983579e-01,\n",
       "        -1.17542160e+00,  -5.04739165e-01,   1.79957175e+00,\n",
       "        -1.00340390e+00,  -1.53403640e+00,   9.19521332e-01,\n",
       "        -2.37380601e-02,  -1.74061346e+00,  -1.16154766e+00,\n",
       "         2.82442093e-01,  -4.50508296e-01,   1.74248815e+00,\n",
       "         8.78473759e-01,  -1.16668618e+00,  -7.61441365e-02,\n",
       "        -1.21341676e-01,   2.68242574e+00,  -1.40884650e+00,\n",
       "        -2.80749893e+00,  -5.04680037e-01,   9.36939418e-01,\n",
       "         7.84153417e-02,  -1.46130884e+00,  -7.95948684e-01,\n",
       "         1.46009493e+00,  -1.75227001e-01,  -6.16891563e-01,\n",
       "        -9.17374611e-01,  -1.01899579e-01,   1.11204970e+00,\n",
       "         5.76436818e-01,   1.33512020e-01], dtype=float32)"
      ]
     },
     "execution_count": 25,
     "metadata": {},
     "output_type": "execute_result"
    }
   ],
   "source": [
    "r = K.eval(Treturn) \n",
    "r"
   ]
  },
  {
   "cell_type": "code",
   "execution_count": 26,
   "metadata": {
    "collapsed": false
   },
   "outputs": [
    {
     "name": "stdout",
     "output_type": "stream",
     "text": [
      "keras mean:  4.48227e-08 keras std: 0.999997\n"
     ]
    },
    {
     "data": {
      "text/plain": [
       "(array([  1.,   0.,   7.,  13.,  25.,  25.,  41.,  41.,  53.,  68.,  51.,\n",
       "         48.,  35.,  30.,  26.,  11.,  13.,   5.,   4.,   3.]),\n",
       " array([-2.80749893, -2.5207257 , -2.23395247, -1.94717925, -1.66040602,\n",
       "        -1.37363279, -1.08685956, -0.80008633, -0.5133131 , -0.22653987,\n",
       "         0.06023335,  0.34700658,  0.63377981,  0.92055304,  1.20732627,\n",
       "         1.4940995 ,  1.78087273,  2.06764596,  2.35441918,  2.64119241,\n",
       "         2.92796564]),\n",
       " <a list of 20 Patch objects>)"
      ]
     },
     "execution_count": 26,
     "metadata": {},
     "output_type": "execute_result"
    },
    {
     "data": {
      "image/png": "[encoded data removed]",
      "text/plain": [
       "<matplotlib.figure.Figure at 0x7f57e81939d0>"
      ]
     },
     "metadata": {},
     "output_type": "display_data"
    }
   ],
   "source": [
    "print('keras mean: ', np.mean(r), 'keras std:' , np.std(r))\n",
    "pylab.hist(r, bins=20)"
   ]
  },
  {
   "cell_type": "code",
   "execution_count": null,
   "metadata": {
    "collapsed": true
   },
   "outputs": [],
   "source": []
  },
  {
   "cell_type": "code",
   "execution_count": null,
   "metadata": {
    "collapsed": true
   },
   "outputs": [],
   "source": []
  },
  {
   "cell_type": "code",
   "execution_count": null,
   "metadata": {
    "collapsed": true
   },
   "outputs": [],
   "source": []
  },
  {
   "cell_type": "markdown",
   "metadata": {},
   "source": [
    "Here is what the code for a single step of LSTM looks like in Keras \n",
    "(recurrent.py, the LSTM class function)\n",
    "\n",
    "```python \n",
    "    def step(self, x, states):\n",
    "        h_tm1 = states[0]\n",
    "        c_tm1 = states[1]\n",
    "        B_U = states[2]\n",
    "        B_W = states[3]\n",
    "\n",
    "        if self.consume_less == 'gpu':\n",
    "            z = K.dot(x * B_W[0], self.W) + K.dot(h_tm1 * B_U[0], self.U) + self.b\n",
    "\n",
    "            z0 = z[:, :self.output_dim]\n",
    "            z1 = z[:, self.output_dim: 2 * self.output_dim]\n",
    "            z2 = z[:, 2 * self.output_dim: 3 * self.output_dim]\n",
    "            z3 = z[:, 3 * self.output_dim:]\n",
    "\n",
    "            i = self.inner_activation(z0)\n",
    "            f = self.inner_activation(z1)\n",
    "            c = f * c_tm1 + i * self.activation(z2)\n",
    "            o = self.inner_activation(z3)\n",
    "        else:\n",
    "            if self.consume_less == 'cpu':\n",
    "                x_i = x[:, :self.output_dim]\n",
    "                x_f = x[:, self.output_dim: 2 * self.output_dim]\n",
    "                x_c = x[:, 2 * self.output_dim: 3 * self.output_dim]\n",
    "                x_o = x[:, 3 * self.output_dim:]\n",
    "            elif self.consume_less == 'mem':\n",
    "                x_i = K.dot(x * B_W[0], self.W_i) + self.b_i\n",
    "                x_f = K.dot(x * B_W[1], self.W_f) + self.b_f\n",
    "                x_c = K.dot(x * B_W[2], self.W_c) + self.b_c\n",
    "                x_o = K.dot(x * B_W[3], self.W_o) + self.b_o\n",
    "            else:\n",
    "                raise Exception('Unknown `consume_less` mode.')\n",
    "\n",
    "            i = self.inner_activation(x_i + K.dot(h_tm1 * B_U[0], self.U_i))\n",
    "            f = self.inner_activation(x_f + K.dot(h_tm1 * B_U[1], self.U_f))\n",
    "            c = f * c_tm1 + i * self.activation(x_c + K.dot(h_tm1 * B_U[2], self.U_c))\n",
    "            o = self.inner_activation(x_o + K.dot(h_tm1 * B_U[3], self.U_o))\n",
    "\n",
    "        h = o * self.activation(c)\n",
    "        return h, [h, c]\n",
    "```"
   ]
  }
 ],
 "metadata": {
  "kernelspec": {
   "display_name": "Python 2",
   "language": "python",
   "name": "python2"
  },
  "language_info": {
   "codemirror_mode": {
    "name": "ipython",
    "version": 2
   },
   "file_extension": ".py",
   "mimetype": "text/x-python",
   "name": "python",
   "nbconvert_exporter": "python",
   "pygments_lexer": "ipython2",
   "version": "2.7.12"
  }
 },
 "nbformat": 4,
 "nbformat_minor": 0
}
